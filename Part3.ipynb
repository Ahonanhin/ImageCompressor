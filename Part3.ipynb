{
 "cells": [
  {
   "cell_type": "code",
   "execution_count": 2,
   "metadata": {},
   "outputs": [],
   "source": [
    "import numpy as np"
   ]
  },
  {
   "cell_type": "code",
   "execution_count": 5,
   "metadata": {
    "id": "57YHDUX_plLQ"
   },
   "outputs": [],
   "source": [
    "def kmeans_numpy(X, n_clusters, max_iters=100):\n",
    "\n",
    "    \"\"\"\n",
    "    Hint:\n",
    "    if implementing using numpy array:\n",
    "    the shape of centroids is (n_clusters x 3), a 2D array\n",
    "    The shape of labels is (for the given sample image) 512 x 512 = 262144 --> a 1D array\n",
    "    \"\"\"\n",
    "    # Initialize cluster centroids randomly\n",
    "    centroids = X[np.random.choice(len(X), n_clusters, replace=False)]\n",
    "\n",
    "    for _ in range(max_iters):\n",
    "        # Calculate the distance from each point to each centroid\n",
    "          ###########\n",
    "          distances = np.sqrt(np.sum((X - centroids[:, np.newaxis])**2, axis=2))\n",
    "          ###########\n",
    "        # Assign each point to the nearest cluster\n",
    "          ###########\n",
    "          labels = np.argmin(distances, axis=0)\n",
    "          ###########\n",
    "        # Create an empty array to store the new centroids\n",
    "          new_centroids = np.zeros((n_clusters, X.shape[1]))\n",
    "\n",
    "        # Loop through each cluster\n",
    "          for i in range(n_clusters):\n",
    "            # Find all data points that belong to the current cluster\n",
    "            cluster_points = X[labels == i]\n",
    "\n",
    "            # Calculate the mean (average) of all data points in the cluster\n",
    "            cluster_mean = cluster_points.mean(axis=0)\n",
    "\n",
    "            # Assign the cluster mean as the new centroid\n",
    "            new_centroids[i] = cluster_mean\n",
    "\n",
    "        # Check for convergence\n",
    "          if np.all(centroids == new_centroids):\n",
    "            break\n",
    "\n",
    "          centroids = new_centroids\n",
    "\n",
    "    return centroids, labels"
   ]
  },
  {
   "cell_type": "code",
   "execution_count": 6,
   "metadata": {
    "id": "hlRDVja6tFWY"
   },
   "outputs": [],
   "source": [
    "def create_compressed_image(labels, centroids, height, width, channels):\n",
    "    \"\"\"\n",
    "    Hint:\n",
    "    Assign the cluster value to the pixel of that cluster\n",
    "    \"\"\"\n",
    "    # Step 3: Create a compressed image based on cluster centroids\n",
    "    compressed_image = np.zeros((height, width, channels), dtype=np.uint8)\n",
    "\n",
    "    for i in range(height):\n",
    "        for j in range(width):\n",
    "          ###########\n",
    "          compressed_image[i][j] = centroids[labels[i*width + j]]\n",
    "          ###########\n",
    "\n",
    "    return compressed_image"
   ]
  },
  {
   "cell_type": "code",
   "execution_count": 7,
   "metadata": {
    "colab": {
     "base_uri": "https://localhost:8080/",
     "height": 333
    },
    "executionInfo": {
     "elapsed": 2650,
     "status": "error",
     "timestamp": 1697413254564,
     "user": {
      "displayName": "arash rasti",
      "userId": "02235494425480433771"
     },
     "user_tz": 240
    },
    "id": "vkQrESwytQlx",
    "outputId": "292e6933-8cdb-438b-a3e7-9738458ad0c3"
   },
   "outputs": [
    {
     "ename": "error",
     "evalue": "OpenCV(4.8.1) D:\\a\\opencv-python\\opencv-python\\opencv\\modules\\imgproc\\src\\color.cpp:182: error: (-215:Assertion failed) !_src.empty() in function 'cv::cvtColor'\n",
     "output_type": "error",
     "traceback": [
      "\u001b[1;31m---------------------------------------------------------------------------\u001b[0m",
      "\u001b[1;31merror\u001b[0m                                     Traceback (most recent call last)",
      "\u001b[1;32mc:\\Users\\yanne\\OneDrive\\Attachments\\Desktop\\cscc11\\CSC11 Tuts\\Assignment 1\\Part3\\Part3.ipynb Cell 4\u001b[0m line \u001b[0;36m6\n\u001b[0;32m     <a href='vscode-notebook-cell:/c%3A/Users/yanne/OneDrive/Attachments/Desktop/cscc11/CSC11%20Tuts/Assignment%201/Part3/Part3.ipynb#W3sZmlsZQ%3D%3D?line=56'>57</a>\u001b[0m image_path \u001b[39m=\u001b[39m \u001b[39m\"\u001b[39m\u001b[39mtest_image.png\u001b[39m\u001b[39m\"\u001b[39m\n\u001b[0;32m     <a href='vscode-notebook-cell:/c%3A/Users/yanne/OneDrive/Attachments/Desktop/cscc11/CSC11%20Tuts/Assignment%201/Part3/Part3.ipynb#W3sZmlsZQ%3D%3D?line=58'>59</a>\u001b[0m num_clusters \u001b[39m=\u001b[39m \u001b[39m10\u001b[39m  \u001b[39m# Adjust the number of clusters as needed\u001b[39;00m\n\u001b[1;32m---> <a href='vscode-notebook-cell:/c%3A/Users/yanne/OneDrive/Attachments/Desktop/cscc11/CSC11%20Tuts/Assignment%201/Part3/Part3.ipynb#W3sZmlsZQ%3D%3D?line=59'>60</a>\u001b[0m kmeans_image_compression(image_path, num_clusters)\n\u001b[0;32m     <a href='vscode-notebook-cell:/c%3A/Users/yanne/OneDrive/Attachments/Desktop/cscc11/CSC11%20Tuts/Assignment%201/Part3/Part3.ipynb#W3sZmlsZQ%3D%3D?line=61'>62</a>\u001b[0m \u001b[39m#test with different numbers of clusters\u001b[39;00m\n\u001b[0;32m     <a href='vscode-notebook-cell:/c%3A/Users/yanne/OneDrive/Attachments/Desktop/cscc11/CSC11%20Tuts/Assignment%201/Part3/Part3.ipynb#W3sZmlsZQ%3D%3D?line=62'>63</a>\u001b[0m num_clusters \u001b[39m=\u001b[39m \u001b[39m2\u001b[39m\n",
      "\u001b[1;32mc:\\Users\\yanne\\OneDrive\\Attachments\\Desktop\\cscc11\\CSC11 Tuts\\Assignment 1\\Part3\\Part3.ipynb Cell 4\u001b[0m line \u001b[0;36m1\n\u001b[0;32m      <a href='vscode-notebook-cell:/c%3A/Users/yanne/OneDrive/Attachments/Desktop/cscc11/CSC11%20Tuts/Assignment%201/Part3/Part3.ipynb#W3sZmlsZQ%3D%3D?line=8'>9</a>\u001b[0m original_image \u001b[39m=\u001b[39m cv2\u001b[39m.\u001b[39mimread(image_path)\n\u001b[0;32m     <a href='vscode-notebook-cell:/c%3A/Users/yanne/OneDrive/Attachments/Desktop/cscc11/CSC11%20Tuts/Assignment%201/Part3/Part3.ipynb#W3sZmlsZQ%3D%3D?line=10'>11</a>\u001b[0m \u001b[39m# Convert the image to RGB color space (if it's not already)\u001b[39;00m\n\u001b[1;32m---> <a href='vscode-notebook-cell:/c%3A/Users/yanne/OneDrive/Attachments/Desktop/cscc11/CSC11%20Tuts/Assignment%201/Part3/Part3.ipynb#W3sZmlsZQ%3D%3D?line=11'>12</a>\u001b[0m original_image \u001b[39m=\u001b[39m cv2\u001b[39m.\u001b[39;49mcvtColor(original_image, cv2\u001b[39m.\u001b[39;49mCOLOR_BGR2RGB)\n\u001b[0;32m     <a href='vscode-notebook-cell:/c%3A/Users/yanne/OneDrive/Attachments/Desktop/cscc11/CSC11%20Tuts/Assignment%201/Part3/Part3.ipynb#W3sZmlsZQ%3D%3D?line=13'>14</a>\u001b[0m \u001b[39m# Get the dimensions of the image\u001b[39;00m\n\u001b[0;32m     <a href='vscode-notebook-cell:/c%3A/Users/yanne/OneDrive/Attachments/Desktop/cscc11/CSC11%20Tuts/Assignment%201/Part3/Part3.ipynb#W3sZmlsZQ%3D%3D?line=14'>15</a>\u001b[0m height, width, channels \u001b[39m=\u001b[39m original_image\u001b[39m.\u001b[39mshape\n",
      "\u001b[1;31merror\u001b[0m: OpenCV(4.8.1) D:\\a\\opencv-python\\opencv-python\\opencv\\modules\\imgproc\\src\\color.cpp:182: error: (-215:Assertion failed) !_src.empty() in function 'cv::cvtColor'\n"
     ]
    }
   ],
   "source": [
    "import cv2\n",
    "import numpy as np\n",
    "import os\n",
    "import matplotlib.pyplot as plt\n",
    "from sklearn.cluster import KMeans\n",
    "\n",
    "def kmeans_image_compression(image_path, num_clusters):\n",
    "    # Step 1: Load the image\n",
    "    original_image = cv2.imread(image_path)\n",
    "\n",
    "    # Convert the image to RGB color space (if it's not already)\n",
    "    original_image = cv2.cvtColor(original_image, cv2.COLOR_BGR2RGB)\n",
    "\n",
    "    # Get the dimensions of the image\n",
    "    height, width, channels = original_image.shape\n",
    "\n",
    "    # Step 2: Apply K-means clustering using numpy\n",
    "    pixel_values = original_image.reshape(-1, 3)\n",
    "    centroids, labels = kmeans_numpy(pixel_values, num_clusters)\n",
    "\n",
    "    # Step 3: Create a compressed image based on cluster centroids\n",
    "    compressed_image = create_compressed_image(labels, centroids, height, width, channels)\n",
    "\n",
    "    # Step 4: Save the compressed image\n",
    "    compressed_image_path = \"compressed_image.png\"\n",
    "    cv2.imwrite(compressed_image_path, cv2.cvtColor(compressed_image, cv2.COLOR_RGB2BGR))\n",
    "\n",
    "    # Save the original image in the same format as the compressed one\n",
    "    original_image_path = \"original_image.png\"\n",
    "    cv2.imwrite(original_image_path, cv2.cvtColor(original_image, cv2.COLOR_RGB2BGR))\n",
    "\n",
    "    # Calculate and print the compression ratio\n",
    "    original_size = os.path.getsize(original_image_path)\n",
    "    compressed_size = os.path.getsize(compressed_image_path)\n",
    "    compression_ratio = original_size / compressed_size\n",
    "\n",
    "    print(f\"Original image size: {original_size} bytes\")\n",
    "    print(f\"Compressed image size: {compressed_size} bytes\")\n",
    "    print(f\"Compression ratio: {compression_ratio:.2f}\")\n",
    "\n",
    "    # Show the original and compressed images using matplotlib\n",
    "    plt.figure(figsize=(12, 6))\n",
    "\n",
    "    plt.subplot(1, 2, 1)\n",
    "    plt.imshow(original_image)\n",
    "    plt.title(\"Original Image\")\n",
    "    plt.axis(\"off\")\n",
    "\n",
    "    plt.subplot(1, 2, 2)\n",
    "    plt.imshow(compressed_image)\n",
    "    plt.title(\"Compressed Image\")\n",
    "    plt.axis(\"off\")\n",
    "\n",
    "    plt.show()\n",
    "\n",
    "if __name__ == \"__main__\":\n",
    "    image_path = \"test_image.png\"\n",
    "\n",
    "    num_clusters = 10  # Adjust the number of clusters as needed\n",
    "    kmeans_image_compression(image_path, num_clusters)\n",
    "\n",
    "    #test with different numbers of clusters\n",
    "    num_clusters = 2\n",
    "    kmeans_image_compression(image_path, num_clusters)\n",
    "\n",
    "    num_clusters = 5\n",
    "    kmeans_image_compression(image_path, num_clusters)\n",
    "\n",
    "    # num_clusters = 15\n",
    "    # kmeans_image_compression(image_path, num_clusters)\n",
    "\n",
    "    # num_clusters = 20\n",
    "    # kmeans_image_compression(image_path, num_clusters)\n",
    "\n",
    "    # num_clusters = 30\n",
    "    # kmeans_image_compression(image_path, num_clusters)\n",
    "\n",
    "    # num_clusters = 40\n",
    "    # kmeans_image_compression(image_path, num_clusters)\n",
    "\n",
    "    # num_clusters = 50\n",
    "    # kmeans_image_compression(image_path, num_clusters)\n"
   ]
  },
  {
   "cell_type": "markdown",
   "metadata": {},
   "source": [
    "We can see that as we increase the number of clusters, we somewhat increase the resolution of the picture and have the output more detailed and partitioned. Increasing the number of clusters increases the quality of the image, hence its size (KB)."
   ]
  }
 ],
 "metadata": {
  "colab": {
   "authorship_tag": "ABX9TyOLyEbwIHJQMJnxbJmVBnrm",
   "provenance": []
  },
  "kernelspec": {
   "display_name": "Python 3 (ipykernel)",
   "language": "python",
   "name": "python3"
  },
  "language_info": {
   "codemirror_mode": {
    "name": "ipython",
    "version": 3
   },
   "file_extension": ".py",
   "mimetype": "text/x-python",
   "name": "python",
   "nbconvert_exporter": "python",
   "pygments_lexer": "ipython3",
   "version": "3.10.11"
  }
 },
 "nbformat": 4,
 "nbformat_minor": 1
}
